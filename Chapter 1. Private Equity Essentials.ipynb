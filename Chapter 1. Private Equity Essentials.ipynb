{
 "cells": [
  {
   "cell_type": "markdown",
   "metadata": {},
   "source": [
    "# Introduction\n",
    "* PE funds invest long term capital (10 year lock up) in private companies or take public companies private\n",
    "* There are two type of people in a PE scenario - general partners that run the fund and limited partners that provide capital\n",
    "* The LPs capital is locked up for 10 years, with the exception of the **PE Secondaries** market that can purchase these stakes\n",
    "* PE Funds are set up as a **blind pool** - meaning that the LPs have no say in what the proceeds of the fund raise are invested in."
   ]
  },
  {
   "cell_type": "markdown",
   "metadata": {},
   "source": [
    "# Fund Structure\n",
    "* Each fund within a PE Firm is typically set up as a **Special Purpose Vehicle (SPV)** to avoid cross-liabilities with other funds the Firm has raised\n",
    "* A typical fund aims to invest in 10-15 companies during the 10-year lifecycle\n",
    "* The fund's success is based around managing to make an exit during a 3 to 7 year period\n",
    "* Capital is deployed in the first four to five years - the remaining years are used to harvest returns\n",
    "* Once a target amount of capital is raised a \"First closing\" is held - after either a certain time period or the hard cap on capital is hit the \"Final closing\" occurs - after which the fund is closed\n",
    "* Sometimes a fund can make new investments from exits from other portfolios companies - this is known as **recycling of capital**\n",
    "* Successor funds are typically raised every 3 to 4 years to guarantee continuous access to capital\n",
    "* The **J-Curve** is the cumulative sum of in flows and out flows from the various capital calls and distributions over a funds lifecycle."
   ]
  },
  {
   "cell_type": "markdown",
   "metadata": {},
   "source": [
    "# Fee Structure\n",
    "* The fee structure is designed to align the economic incentives of the fund and its investors\n",
    "* Standard 2 and 20\n",
    "## The 2\n",
    "* though the 2 is only charged on committed capital during the investment period and on invested capital (exclusive of exits/distributions) during the life of the fund\n",
    "* This means that the **fees of a fund decrease over the life of the fund**\n",
    "## The 20 - Carried Interest\n",
    "* Proceeds from exits are distributed according to a waterfall set out in the Limited Partner Agreement\n",
    "* A return (typically 8%) is guaranteed to the LPs - this is known as the **Hurdle Rate**\n",
    "* After this is achieved, all profits go to the GP until they have reached **20% of all net profits paid out so far**"
   ]
  },
  {
   "cell_type": "code",
   "execution_count": null,
   "metadata": {},
   "outputs": [],
   "source": []
  }
 ],
 "metadata": {
  "kernelspec": {
   "display_name": "Python 3",
   "language": "python",
   "name": "python3"
  },
  "language_info": {
   "codemirror_mode": {
    "name": "ipython",
    "version": 3
   },
   "file_extension": ".py",
   "mimetype": "text/x-python",
   "name": "python",
   "nbconvert_exporter": "python",
   "pygments_lexer": "ipython3",
   "version": "3.7.3"
  }
 },
 "nbformat": 4,
 "nbformat_minor": 2
}
