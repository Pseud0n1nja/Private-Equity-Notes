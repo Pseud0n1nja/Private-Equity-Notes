{
 "cells": [
  {
   "cell_type": "markdown",
   "metadata": {},
   "source": [
    "# Portfolio Strip Sale\n",
    "* A **Portfolio Strip Sale** allow general partners to a sell a percentage of equity exposure of portfolio companies into a special purpose equals - the proceeds of which can be distributed to existing limited partners or recyled into the existing fund for new investment capital.\n",
    "#### When to do this\n",
    "1. Make a distribution to LPs but maintain control of companies\n",
    "2. Up against concentration limits of portfolio companies\n",
    "3. The sponsor is seeking new LPs"
   ]
  },
  {
   "cell_type": "code",
   "execution_count": null,
   "metadata": {},
   "outputs": [],
   "source": []
  }
 ],
 "metadata": {
  "kernelspec": {
   "display_name": "Python 3",
   "language": "python",
   "name": "python3"
  },
  "language_info": {
   "codemirror_mode": {
    "name": "ipython",
    "version": 3
   },
   "file_extension": ".py",
   "mimetype": "text/x-python",
   "name": "python",
   "nbconvert_exporter": "python",
   "pygments_lexer": "ipython3",
   "version": "3.7.3"
  }
 },
 "nbformat": 4,
 "nbformat_minor": 2
}
